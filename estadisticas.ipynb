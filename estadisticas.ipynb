{
 "cells": [
  {
   "cell_type": "markdown",
   "metadata": {},
   "source": [
    "# Actividad Evaluable: Obtención de estadísticas descriptivas  \n",
    "Cargar los datos y visualizar las primeras 5 filas:"
   ]
  },
  {
   "cell_type": "code",
   "execution_count": 159,
   "metadata": {},
   "outputs": [
    {
     "name": "stdout",
     "output_type": "stream",
     "text": [
      "   Unnamed: 0        Date  AveragePrice  Total Volume     4046       4225  \\\n",
      "0           0  2015-12-27          1.33      64236.62  1036.74   54454.85   \n",
      "1           1  2015-12-20          1.35      54876.98   674.28   44638.81   \n",
      "2           2  2015-12-13          0.93     118220.22   794.70  109149.67   \n",
      "3           3  2015-12-06          1.08      78992.15  1132.00   71976.41   \n",
      "4           4  2015-11-29          1.28      51039.60   941.48   43838.39   \n",
      "\n",
      "     4770  Total Bags  Small Bags  Large Bags  XLarge Bags          type  \\\n",
      "0   48.16     8696.87     8603.62       93.25          0.0  conventional   \n",
      "1   58.33     9505.56     9408.07       97.49          0.0  conventional   \n",
      "2  130.50     8145.35     8042.21      103.14          0.0  conventional   \n",
      "3   72.58     5811.16     5677.40      133.76          0.0  conventional   \n",
      "4   75.78     6183.95     5986.26      197.69          0.0  conventional   \n",
      "\n",
      "   year  region  \n",
      "0  2015  Albany  \n",
      "1  2015  Albany  \n",
      "2  2015  Albany  \n",
      "3  2015  Albany  \n",
      "4  2015  Albany  \n"
     ]
    }
   ],
   "source": [
    "import pandas as pd\n",
    "import numpy as np\n",
    "\n",
    "datos = pd.read_csv(\"avocado.csv\")\n",
    "print(datos.head())"
   ]
  },
  {
   "cell_type": "markdown",
   "metadata": {},
   "source": [
    "## Total de datos por categoría y en total:"
   ]
  },
  {
   "cell_type": "code",
   "execution_count": 160,
   "metadata": {},
   "outputs": [
    {
     "name": "stdout",
     "output_type": "stream",
     "text": [
      "Unnamed: 0      18249\n",
      "Date            18249\n",
      "AveragePrice    18249\n",
      "Total Volume    18249\n",
      "4046            18249\n",
      "4225            18249\n",
      "4770            18249\n",
      "Total Bags      18249\n",
      "Small Bags      18249\n",
      "Large Bags      18249\n",
      "XLarge Bags     18249\n",
      "type            18249\n",
      "year            18249\n",
      "region          18249\n",
      "dtype: int64\n",
      "Total de datos:  255486\n"
     ]
    }
   ],
   "source": [
    "total = datos.count()\n",
    "print(total)\n",
    "print(\"Total de datos: \", total.sum())"
   ]
  },
  {
   "cell_type": "markdown",
   "metadata": {},
   "source": [
    "## Variables: Analizar las variables para saber qué representan.\n",
    "\n",
    "ID: Variable tipo int. No está marcado el nombre pero es el ID de la venta de un día en una determinada región.   \n",
    "Date: Variable de tipo fecha. Es la fecha en la que se realizó determinada venta.  \n",
    "AveragePrice: Variable de tipo float. El precio promedio del aguacate.  \n",
    "TotalVolume: Variable de tipo float. El volumen total que se vendió.  \n",
    "4046: Variable de tipo float. Variable mal nombrada, no se explica qué es.  \n",
    "4225: Variable de tipo float. Variable mal nombrada, no se explica qué es.  \n",
    "4770: Variable de tipo float. Variable mal nombrada, no se explica qué es.  \n",
    "Total bags: Variable de tipo float. Dinero generado por el total de bolsas vendidas.  \n",
    "Small Bags: Variable de tipo float. Dinero generado por las bolsas pequeñas vendidas.  \n",
    "Large Bags: Variable de tipo float. Dinero generado por las bolsas grandes vendidas.  \n",
    "XLarge Bags: Variable de tipo float. Dinero generado por las bolsas extra grandes vendidas.  \n",
    "type: Variable de tipo string. Tipo de aguacate.  \n",
    "year: Variable de tipo int. Año de la venta.  \n",
    "region: Variable de tipo string. Región de la venta.  "
   ]
  },
  {
   "cell_type": "markdown",
   "metadata": {},
   "source": [
    "Rangos de las variables:"
   ]
  },
  {
   "cell_type": "code",
   "execution_count": 161,
   "metadata": {},
   "outputs": [
    {
     "name": "stdout",
     "output_type": "stream",
     "text": [
      "Rango Date: \n",
      "2015-01-04\n",
      "2018-03-25 \n",
      "\n",
      "Rango AveragePrice: \n",
      "0.44\n",
      "3.25 \n",
      "\n",
      "Rango Total Volume: \n",
      "84.56\n",
      "62505646.52 \n",
      "\n",
      "Rango 4046: \n",
      "0.0\n",
      "22743616.17 \n",
      "\n",
      "Rango 4225: \n",
      "0.0\n",
      "20470572.61 \n",
      "\n",
      "Rango 4770: \n",
      "0.0\n",
      "2546439.11 \n",
      "\n",
      "Rango Total Bags: \n",
      "0.0\n",
      "19373134.37 \n",
      "\n",
      "Rango Small Bags: \n",
      "0.0\n",
      "13384586.8 \n",
      "\n",
      "Rango Large Bags: \n",
      "0.0\n",
      "5719096.61 \n",
      "\n",
      "Rango XLarge Bags: \n",
      "0.0\n",
      "551693.65 \n",
      "\n",
      "Rango year: \n",
      "2015\n",
      "2018 \n",
      "\n"
     ]
    }
   ],
   "source": [
    "# Date\n",
    "print(\"Rango Date: \")\n",
    "print(datos['Date'].min())\n",
    "print(datos['Date'].max(), \"\\n\")\n",
    "\n",
    "# AveragePrice\n",
    "print(\"Rango AveragePrice: \")\n",
    "print(datos['AveragePrice'].min())\n",
    "print(datos['AveragePrice'].max(), \"\\n\")\n",
    "\n",
    "# Total Volume\n",
    "print(\"Rango Total Volume: \")\n",
    "print(datos['Total Volume'].min())\n",
    "print(datos['Total Volume'].max(), \"\\n\")\n",
    "\n",
    "# 4046\n",
    "print(\"Rango 4046: \")\n",
    "print(datos['4046'].min())\n",
    "print(datos['4046'].max(), \"\\n\")\n",
    "\n",
    "# 4225\n",
    "print(\"Rango 4225: \")\n",
    "print(datos['4225'].min())\n",
    "print(datos['4225'].max(), \"\\n\")\n",
    "\n",
    "# 4770\n",
    "print(\"Rango 4770: \")\n",
    "print(datos['4770'].min())\n",
    "print(datos['4770'].max(), \"\\n\")\n",
    "\n",
    "# Total Bags\n",
    "print(\"Rango Total Bags: \")\n",
    "print(datos['Total Bags'].min())\n",
    "print(datos['Total Bags'].max(), \"\\n\")\n",
    "\n",
    "# Small Bags\n",
    "print(\"Rango Small Bags: \")\n",
    "print(datos['Small Bags'].min())\n",
    "print(datos['Small Bags'].max(), \"\\n\")\n",
    "\n",
    "# Large Bags\n",
    "print(\"Rango Large Bags: \")\n",
    "print(datos['Large Bags'].min())\n",
    "print(datos['Large Bags'].max(), \"\\n\")\n",
    "\n",
    "# XLarge Bags\n",
    "print(\"Rango XLarge Bags: \")\n",
    "print(datos['XLarge Bags'].min())\n",
    "print(datos['XLarge Bags'].max(), \"\\n\")\n",
    "\n",
    "# year\n",
    "print(\"Rango year: \")\n",
    "print(datos['year'].min())\n",
    "print(datos['year'].max(), \"\\n\")"
   ]
  },
  {
   "cell_type": "markdown",
   "metadata": {},
   "source": [
    "## Basándose en la media, mediana y desviación estándar de cada variable, ¿qué conclusiones pueden entregar los datos?\n",
    "\n",
    "Para esto realicé una función que imprime la media, mediana y desviación estándar de la columna solicitada."
   ]
  },
  {
   "cell_type": "code",
   "execution_count": 162,
   "metadata": {},
   "outputs": [],
   "source": [
    "def media_mediana_desviacion_estandar(producto):\n",
    "    media = round(np.mean(datos[producto]), 3)\n",
    "    mediana = np.median(datos[producto])\n",
    "    de = round(np.std(datos[producto]), 3)\n",
    "    print(producto)\n",
    "    print(\"Media:\", media, \"Mediana:\", mediana, \"Desviacion estandar:\", de)\n",
    "\n"
   ]
  },
  {
   "cell_type": "code",
   "execution_count": 163,
   "metadata": {},
   "outputs": [
    {
     "name": "stdout",
     "output_type": "stream",
     "text": [
      "AveragePrice\n",
      "Media: 1.406 Mediana: 1.37 Desviacion estandar: 0.403\n"
     ]
    }
   ],
   "source": [
    "media_mediana_desviacion_estandar('AveragePrice')"
   ]
  },
  {
   "cell_type": "markdown",
   "metadata": {},
   "source": [
    "Conclusiones: como la mediana es menor que la media y tenemos muchos datos,\n",
    "podemos deducir que tenemos más datos por debajo de la media que por encima,\n",
    "entonces hay datos grandes que están inflando un poco la media. Además, la\n",
    "desviación estándar nos indica que los datos no son demasiado dispersos, pero\n",
    "tienen una variabilidad moderada."
   ]
  },
  {
   "cell_type": "code",
   "execution_count": 164,
   "metadata": {},
   "outputs": [
    {
     "name": "stdout",
     "output_type": "stream",
     "text": [
      "Total Volume\n",
      "Media: 850644.013 Mediana: 107376.76 Desviacion estandar: 3453450.731\n"
     ]
    }
   ],
   "source": [
    "media_mediana_desviacion_estandar('Total Volume')\n"
   ]
  },
  {
   "cell_type": "markdown",
   "metadata": {},
   "source": [
    "Conclusiones: Como la mediana es mucho menor a la media, podemos suponer que la\n",
    "gran mayoría de los datos son menores a la media, lo que significa que hay unos\n",
    "cuantos datos muy grandes que inflan a la media. Además, la desviación estándar\n",
    "es alrededor de 4 veces la media, por lo que podemos decir que los datos tienen\n",
    "una gran variabilidad."
   ]
  },
  {
   "cell_type": "code",
   "execution_count": 165,
   "metadata": {},
   "outputs": [
    {
     "name": "stdout",
     "output_type": "stream",
     "text": [
      "4046\n",
      "Media: 293008.425 Mediana: 8645.3 Desviacion estandar: 1264954.422\n"
     ]
    }
   ],
   "source": [
    "media_mediana_desviacion_estandar('4046')\n"
   ]
  },
  {
   "cell_type": "markdown",
   "metadata": {},
   "source": [
    "Conclusiones: Nuevamente tenemos una mediana mucho menor a la media, lo que indica\n",
    "que tenemos muchos datos pequeños y pocos datos muy grandes. La desviación estándar\n",
    "es muy grande, lo que indica que los datos tienen una gran variabilidad."
   ]
  },
  {
   "cell_type": "code",
   "execution_count": 166,
   "metadata": {},
   "outputs": [
    {
     "name": "stdout",
     "output_type": "stream",
     "text": [
      "4225\n",
      "Media: 295154.568 Mediana: 29061.02 Desviacion estandar: 1204087.409\n"
     ]
    }
   ],
   "source": [
    "media_mediana_desviacion_estandar('4225')\n"
   ]
  },
  {
   "cell_type": "markdown",
   "metadata": {},
   "source": [
    "Conclusiones: Nuevamente tenemos una mediana mucho menor a la media, lo que indica\n",
    "que tenemos muchos datos pequeños y pocos datos muy grandes. La desviación estándar\n",
    "es muy grande, lo que indica que los datos tienen una gran variabilidad."
   ]
  },
  {
   "cell_type": "code",
   "execution_count": 167,
   "metadata": {},
   "outputs": [
    {
     "name": "stdout",
     "output_type": "stream",
     "text": [
      "4770\n",
      "Media: 22839.736 Mediana: 184.99 Desviacion estandar: 107461.124\n"
     ]
    }
   ],
   "source": [
    "media_mediana_desviacion_estandar('4770')\n"
   ]
  },
  {
   "cell_type": "markdown",
   "metadata": {},
   "source": [
    "Conclusiones: Al igual que para las dos variables anteriores, la mediana es mucho\n",
    "menor a la media, entonces la mayoría de los datos son pequeños y hay pocos datos muy grandes.\n",
    "Además, la desviación estándar es bastante grande, así que hay gran variabilidad en los datos."
   ]
  },
  {
   "cell_type": "code",
   "execution_count": 168,
   "metadata": {},
   "outputs": [
    {
     "name": "stdout",
     "output_type": "stream",
     "text": [
      "Total Bags\n",
      "Media: 239639.202 Mediana: 39743.83 Desviacion estandar: 986215.377\n"
     ]
    }
   ],
   "source": [
    "media_mediana_desviacion_estandar('Total Bags')\n"
   ]
  },
  {
   "cell_type": "markdown",
   "metadata": {},
   "source": [
    "Conclusiones: Nuevamente tenemos una mediana mucho menor a la media, lo que indica\n",
    "que tenemos muchos datos pequeños y pocos datos muy grandes. La desviación estándar\n",
    "es muy grande, lo que indica que los datos tienen una gran variabilidad."
   ]
  },
  {
   "cell_type": "code",
   "execution_count": 169,
   "metadata": {},
   "outputs": [
    {
     "name": "stdout",
     "output_type": "stream",
     "text": [
      "Small Bags\n",
      "Media: 182194.687 Mediana: 26362.82 Desviacion estandar: 746158.07\n"
     ]
    }
   ],
   "source": [
    "media_mediana_desviacion_estandar('Small Bags')\n"
   ]
  },
  {
   "cell_type": "markdown",
   "metadata": {},
   "source": [
    "Conclusiones: Nuevamente tenemos una mediana mucho menor a la media, lo que indica\n",
    "que tenemos muchos datos pequeños y pocos datos muy grandes. La desviación estándar\n",
    "es muy grande, lo que indica que los datos tienen una gran variabilidad."
   ]
  },
  {
   "cell_type": "code",
   "execution_count": 170,
   "metadata": {},
   "outputs": [
    {
     "name": "stdout",
     "output_type": "stream",
     "text": [
      "Large Bags\n",
      "Media: 54338.088 Mediana: 2647.71 Desviacion estandar: 243959.28\n"
     ]
    }
   ],
   "source": [
    "media_mediana_desviacion_estandar('Large Bags')\n"
   ]
  },
  {
   "cell_type": "markdown",
   "metadata": {},
   "source": [
    "Conclusiones: Nuevamente tenemos una mediana mucho menor a la media, lo que indica\n",
    "que tenemos muchos datos pequeños y pocos datos muy grandes. La desviación estándar\n",
    "es muy grande, lo que indica que los datos tienen una gran variabilidad."
   ]
  },
  {
   "cell_type": "code",
   "execution_count": 171,
   "metadata": {},
   "outputs": [
    {
     "name": "stdout",
     "output_type": "stream",
     "text": [
      "XLarge Bags\n",
      "Media: 3106.427 Mediana: 0.0 Desviacion estandar: 17692.41\n"
     ]
    }
   ],
   "source": [
    "media_mediana_desviacion_estandar('XLarge Bags')\n"
   ]
  },
  {
   "cell_type": "markdown",
   "metadata": {},
   "source": [
    "Conclusiones: Este caso es muy interesante, ya que la mediana es cero. Esto indica que la mayoría de los datos son 0. Tenemos que la desviación estándar es casi 6 veces la media.\n",
    "Esto es interesante porque como la mediana es 0, entonces hay números mucho más grandes\n",
    "que la media para esta variable."
   ]
  },
  {
   "cell_type": "code",
   "execution_count": 172,
   "metadata": {},
   "outputs": [
    {
     "name": "stdout",
     "output_type": "stream",
     "text": [
      "year\n",
      "Media: 2016.148 Mediana: 2016.0 Desviacion estandar: 0.94\n"
     ]
    }
   ],
   "source": [
    "media_mediana_desviacion_estandar('year')\n"
   ]
  },
  {
   "cell_type": "markdown",
   "metadata": {},
   "source": [
    "Conclusiones: Este caso tiene una media y una mediana muy similares, además de que la desviación\n",
    "estándar es muy baja. Esto era de esperarse porque tenemos solamente 4 posibles datos:\n",
    "2015, 2016, 2017 y 2018."
   ]
  },
  {
   "cell_type": "markdown",
   "metadata": {},
   "source": [
    "## Conclusiones generales:\n",
    "La mayoría de las columnas tienen muchos datos pequeños que no se alejan tanto de la media y muchos datos grandes que llegan a alejarse bastante de la media. Hay unas cuantas columnas en las que la media y la mediana son muy cercanas y estas en su mayoría tienen una desviación estándar mucho más baja.\n",
    "Para todos los datos no numéricos no es posible sacar media, mediana y desviación estándar."
   ]
  }
 ],
 "metadata": {
  "kernelspec": {
   "display_name": "Python 3",
   "language": "python",
   "name": "python3"
  },
  "language_info": {
   "codemirror_mode": {
    "name": "ipython",
    "version": 3
   },
   "file_extension": ".py",
   "mimetype": "text/x-python",
   "name": "python",
   "nbconvert_exporter": "python",
   "pygments_lexer": "ipython3",
   "version": "3.11.3"
  },
  "orig_nbformat": 4
 },
 "nbformat": 4,
 "nbformat_minor": 2
}
